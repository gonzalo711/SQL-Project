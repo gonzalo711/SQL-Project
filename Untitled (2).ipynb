{
 "cells": [
  {
   "cell_type": "markdown",
   "id": "abb04fcf",
   "metadata": {},
   "source": [
    "### Context & Objective"
   ]
  },
  {
   "cell_type": "markdown",
   "id": "63a16184",
   "metadata": {},
   "source": [
    "We have been hired by Ironhack,a global tech school, that have just raised 2M€ to advise them on how to grow their business\n",
    "\n",
    "\n",
    "For this purpose, the questions to answer are:\n",
    " - Who are Ironhack main competitors and how is the bootcamp landscape?\n",
    " - What courses can we introduce to upgrade the offering? Their last course was introduced in 2020\n",
    " - To increase Ironhack footprint and growth, where Ironhack can expand their operations?\n",
    "\n",
    "To make inform recommendations we need data, so we have taken the following sources for our decision making:\n",
    "    \n",
    " - Course aggregators data: we have extracted with web scrapping techniques data from the 2 most relevant Bootcamp aggregators -Course Report and Switchup-. We have extracted data about each school, their reviews, ratings, programs, location, etc.\n",
    "\n",
    " - European countries data, including population, GDP, growth and tech skills demand\n"
   ]
  },
  {
   "cell_type": "code",
   "execution_count": null,
   "id": "0cb684a3",
   "metadata": {},
   "outputs": [],
   "source": []
  }
 ],
 "metadata": {
  "kernelspec": {
   "display_name": "Python 3 (ipykernel)",
   "language": "python",
   "name": "python3"
  },
  "language_info": {
   "codemirror_mode": {
    "name": "ipython",
    "version": 3
   },
   "file_extension": ".py",
   "mimetype": "text/x-python",
   "name": "python",
   "nbconvert_exporter": "python",
   "pygments_lexer": "ipython3",
   "version": "3.11.4"
  }
 },
 "nbformat": 4,
 "nbformat_minor": 5
}
